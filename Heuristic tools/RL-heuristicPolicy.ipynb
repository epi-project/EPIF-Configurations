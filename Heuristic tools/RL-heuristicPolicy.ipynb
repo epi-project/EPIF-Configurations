{
 "cells": [
  {
   "cell_type": "code",
   "execution_count": 1,
   "metadata": {},
   "outputs": [
    {
     "data": {
      "text/html": [
       "<h1>The graph initialisation</h1>"
      ],
      "text/plain": [
       "<IPython.core.display.HTML object>"
      ]
     },
     "execution_count": 1,
     "metadata": {},
     "output_type": "execute_result"
    }
   ],
   "source": [
    "from IPython.display import HTML\n",
    "HTML(\"<h1>The graph initialisation</h1>\")"
   ]
  },
  {
   "cell_type": "code",
   "execution_count": 23,
   "metadata": {},
   "outputs": [],
   "source": [
    "G = {\"cluster1-cntx\":[\"cluster1-cntx\",\"cluster2-cntx\"], \"cluster2-cntx\":[\"cluster2-cntx\",\"cluster1-cntx\"]}#, \"cluster3-cntx\":[\"cluster3-cntx\"]}\n",
    "#Change the graph according to the current cluster configurations, so if you remove cluster 3 from the dict value of cluster 1, means that cluster 1 is not connected to 3\n",
    "\n",
    "#Make sure the latency graph matches the G graph \"who can talk to whom? Then what is the latench?\n",
    "link_latency = {\"cluster1-cntx\":{\"cluster1-cntx\":0, \"cluster2-cntx\":10},\"cluster2-cntx\":{\"cluster2-cntx\":0, \"cluster1-cntx\":10}}\n",
    "\n",
    "#Change this and initialise to reflect the simulated latency on each cluster-to-cluster link\n",
    "bf = {\"firewall\":{\"firewalls\":10, \"firewallm\":5, \"firewalll\":1}, \"encrypt\":{\"encrypts\":10, \"encryptm\":5, \"encryptl\":1}, \"decrypt\":{\"decrypts\":10, \"decryptm\":5, \"decryptl\":1}}\n",
    "#This reflects that the processing power of firewalll is the best in terms of processing delay and the worst with smaller configurations\n",
    "\n",
    "G_req = {\"firewall\":[\"encrypt\"], \"encrypt\":[\"firewall\"]}#, \"decrypt\":[\"firewall\"]}\n",
    "#This is the actual request rule that you want to be placed. Change this with each experiment to reflect the rule needed\n",
    "#MAKE SURE THAT THE REQUEST G_REQ MATCHES THE U VALUE\n",
    "\n",
    "usecase = {\"EHR:1C:E-F-D\":{\"firewall\":30,\"encrypt\": 20, \"decrypt\":10, \"SLA\":100}, \"EHR:1C:F-E-D\":{\"firewall\":40, \"encrypt\": 10, \"decrypt\": 10, \"SLA\": 100}, \"EHR:1C:E-D\":{\"encrypt\": 20, \"decrypt\":20, \"SLA\":100}, \"EHR:1C:E-F\":{\"firewall\":30,\"encrypt\": 20, \"SLA\":100}, \"EHR:1C:F\":{\"firewall\":40, \"SLA\":100}, \"EHR:10C:E-F-D\":{\"firewall\":130,\"encrypt\": 80, \"decrypt\":20, \"SLA\":100}, \"EHR:10C:F-E-D\":{\"firewall\":160, \"encrypt\": 20, \"decrypt\":20, \"SLA\":100},\"EHR:10C:E-D\":{\"encrypt\": 80, \"decrypt\":80, \"SLA\":100}, \"EHR:10C:E-F\":{\"firewall\":130,\"encrypt\": 80, \"SLA\":100}, \"EHR:10C:F\":{\"firewall\":160,\"SLA\":100}, \"STREAM:1C:E-F-D\":{\"firewall\":130,\"encrypt\": 80, \"decrypt\":25, \"SLA\":10}, \"STREAM:1C:F-E-D\":{\"firewall\":180,\"encrypt\": 25, \"decrypt\": 25, \"SLA\": 10}, \"STREAM:1C:E-D\":{\"encrypt\": 80, \"decrypt\":80, \"SLA\":10}, \"STREAM:1C:E-F\":{\"firewall\":130,\"encrypt\": 80, \"SLA\":10}, \"STREAM:1C:F\":{\"firewall\":180, \"SLA\":10}, \"STREAM:10C:E-F-D\":{\"firewall\":300,\"encrypt\": 150, \"decrypt\":40, \"SLA\":10}, \"STREAM:10C:F-E-D\":{\"firewall\":350, \"encrypt\": 40, \"decrypt\":40, \"SLA\":10},\"STREAM:10C:E-D\":{\"encrypt\": 150, \"decrypt\":150, \"SLA\":10}, \"STREAM:10C:E-F\":{\"firewall\":300,\"encrypt\": 150, \"SLA\":10}, \"STREAM:10C:F\":{\"firewall\":350,\"SLA\":10}, \"ALGO:1C:E-F-D\":{\"firewall\":30,\"encrypt\": 20, \"decrypt\":10, \"SLA\":100}, \"ALGO:1C:F-E-D\":{\"firewall\":40,\"encrypt\": 10, \"decrypt\": 10, \"SLA\": 100}, \"ALGO:1C:E-D\":{\"encrypt\": 20, \"decrypt\":20, \"SLA\":100}, \"ALGO:1C:E-F\":{\"firewall\":30,\"encrypt\": 20, \"SLA\":100}, \"ALGO:1C:F\":{\"firewall\":40, \"SLA\":100}, \"ALGO:10C:E-F-D\":{\"firewall\":130,\"encrypt\": 80, \"decrypt\":20, \"SLA\":100}, \"ALGO:10C:F-E-D\":{\"firewall\":160, \"encrypt\": 20, \"decrypt\":20, \"SLA\":100},\"ALGO:10C:E-D\":{\"encrypt\": 80, \"decrypt\":80, \"SLA\":100}, \"ALGO:10C:E-F\":{\"firewall\":130,\"encrypt\": 80, \"SLA\":100}, \"ALGO:10C:F\":{\"firewall\":160,\"SLA\":100}}\n",
    "#Do not change this, these are the profiled values of CPU average running different use cases and different rules"
   ]
  },
  {
   "cell_type": "code",
   "execution_count": 24,
   "metadata": {},
   "outputs": [],
   "source": [
    "#To generate different usecases under different requests \n",
    "\n",
    "G_req1 = {\"encrypt\":[\"firewall\"], \"firewall\":[\"encrypt\", \"decrypt\"], \"decrypt\":[\"firewall\"]}\n",
    "G_req2 = {\"firewall\":[\"encrypt\"], \"encrypt\":[\"firewall\", \"decrypt\"], \"decrypt\":[\"encrypt\"]}\n",
    "G_req3 = {\"encrypt\":[\"decrypt\"], \"decrypt\":[\"encrypt\"]}\n",
    "G_req4 = {\"encrypt\":[\"firewall\"], \"firewall\":[\"encrypt\"]}\n",
    "G_req5 = {\"firewall\":[\"firewall\"]}\n",
    "\n",
    "#Specify by initialising G_req = G_reqX\n",
    "#You also need specify use case by initialising value u as an example, u= \"EHR:1C:E-F-D\"\n",
    "#Key values starting with EHR refers to usecase A\n",
    "#Keys starting with STREAM use case B\n",
    "#Keys starting with ALGO refers to usecase C\n",
    "#Keys represeted as \"USECASE:NUMBEROFCLIENTS:RULE\"\n",
    "#Make sure while initialising a use case to match it to the requested chain\n",
    "#Ex: \n",
    "u = \"EHR:10C:F\"\n",
    "G_req=G_req5\n",
    "#We have one proxy so leave this proxy value as it is, unless the proxy service you have has a different name\n",
    "proxy=\"proxy\""
   ]
  },
  {
   "cell_type": "code",
   "execution_count": 25,
   "metadata": {},
   "outputs": [
    {
     "data": {
      "text/html": [
       "<h1>The graph illustration</h1>"
      ],
      "text/plain": [
       "<IPython.core.display.HTML object>"
      ]
     },
     "execution_count": 25,
     "metadata": {},
     "output_type": "execute_result"
    }
   ],
   "source": [
    "from IPython.display import HTML\n",
    "HTML(\"<h1>The graph illustration</h1>\")"
   ]
  },
  {
   "cell_type": "code",
   "execution_count": 26,
   "metadata": {},
   "outputs": [
    {
     "data": {
      "image/png": "[encoded data removed]",
      "text/plain": [
       "<Figure size 432x288 with 1 Axes>"
      ]
     },
     "metadata": {},
     "output_type": "display_data"
    }
   ],
   "source": [
    "import networkx as nx\n",
    "import numpy as np\n",
    "import matplotlib.pyplot as plt\n",
    "import pylab\n",
    "\n",
    "def draw(G):\n",
    "    infra = nx.DiGraph()\n",
    " #   for cl in range(len(G)):\n",
    " #       i = list(G.keys())[cl]\n",
    " #       infra.add_node(i)\n",
    "    for cl in range(len(G)):\n",
    "        i = list(G.keys())[cl]\n",
    "        for link in range(len(G[i])):\n",
    "            infra.add_edges_from([(i, G[i][link])], weight=link_latency[i][G[i][link]])\n",
    "    edge_labels=dict([((u,v,),d['weight'])\n",
    "                 for u,v,d in infra.edges(data=True)])\n",
    "\n",
    "\n",
    "    pos = nx.spring_layout(infra)\n",
    "    nx.draw_networkx_edge_labels(infra,pos,edge_labels=edge_labels)\n",
    "    nx.draw_networkx_labels(infra, pos)\n",
    "    #plt.figure(figsize=(8,8))\n",
    "    \n",
    "    nx.draw(infra, pos=pos, with_labels=True)\n",
    "    plt.show()\n",
    "    \n",
    "\n",
    "draw(G)"
   ]
  },
  {
   "cell_type": "code",
   "execution_count": 27,
   "metadata": {},
   "outputs": [
    {
     "data": {
      "text/plain": [
       "1"
      ]
     },
     "execution_count": 27,
     "metadata": {},
     "output_type": "execute_result"
    }
   ],
   "source": [
    "#The number of running pods of a microservice on each cluster\n",
    "import os\n",
    "def runningPods(cluster, app_name):\n",
    "    output = os.popen('sudo kubectl top pod --context=' + cluster).read()\n",
    "    lines = output.split(\"\\n\")\n",
    "    numPods = 0\n",
    "    which_app = len(app_name)\n",
    "    for line in lines[:-1]:\n",
    "        items = line.split()\n",
    "        if len(items[0]) > 8 and items[0][:which_app] == app_name:\n",
    "            numPods += 1\n",
    "    return numPods\n",
    "runningPods(\"cluster1-cntx\",\"firewall\"+'s')"
   ]
  },
  {
   "cell_type": "code",
   "execution_count": 28,
   "metadata": {},
   "outputs": [
    {
     "data": {
      "text/plain": [
       "0"
      ]
     },
     "execution_count": 28,
     "metadata": {},
     "output_type": "execute_result"
    }
   ],
   "source": [
    "#The utilised CPU of a microservice running on a cluster\n",
    "import os\n",
    "def getchar(string, n):\n",
    "    return str(string)[n - 1]\n",
    "def cpuUtilised(cluster, app_name):\n",
    "    output = os.popen('kubectl top pod --context=' + cluster).read()\n",
    "    lines = output.split(\"\\n\")\n",
    "    which_app = len(app_name)\n",
    "    cpu = ''\n",
    "    cpu_u=0\n",
    "    limits=0\n",
    "    for line in lines[:-1]:\n",
    "        items = line.split()\n",
    "        if items[0][:which_app] == app_name:\n",
    "            if getchar(items[0], which_app) == 's':\n",
    "                cpu = items[1]\n",
    "                cpu = cpu[:-1]\n",
    "                cpu = int(cpu)\n",
    "                cpu_u=cpu_u + cpu\n",
    "            if getchar(items[0], which_app) == 'm':\n",
    "                cpu = items[1]\n",
    "                cpu = cpu[:-1]\n",
    "                cpu = int(cpu)\n",
    "                cpu_u=cpu_u + cpu\n",
    "            if getchar(items[0], which_app) == 'l':\n",
    "                cpu = items[1]\n",
    "                cpu = cpu[:-1]\n",
    "                cpu = int(cpu)\n",
    "                cpu_u=cpu_u + cpu\n",
    "\n",
    "        \n",
    "                \n",
    "#    print(limits - cpu_u)\n",
    "    return cpu_u\n",
    "\n",
    "\n",
    "cpuUtilised(\"cluster1-cntx\",\"firewall\"+'m')"
   ]
  },
  {
   "cell_type": "code",
   "execution_count": 29,
   "metadata": {},
   "outputs": [
    {
     "data": {
      "text/plain": [
       "600"
      ]
     },
     "execution_count": 29,
     "metadata": {},
     "output_type": "execute_result"
    }
   ],
   "source": [
    "#The available CPU of a microservice running on a cluster\n",
    "import os\n",
    "def getchar(string, n):\n",
    "    return str(string)[n - 1]\n",
    "def cpuAvail(cluster, app_name):\n",
    "    output = os.popen('kubectl top pod --context=' + cluster).read()\n",
    "    lines = output.split(\"\\n\")\n",
    "    which_app = len(app_name)\n",
    "    cpu = ''\n",
    "    cpu_u=0\n",
    "    limits=0\n",
    "    for line in lines[:-1]:\n",
    "        items = line.split()\n",
    "        if items[0][:which_app] == app_name:\n",
    "            if getchar(items[0], which_app) == 's':\n",
    "                limits = 600\n",
    "                cpu = items[1]\n",
    "                cpu = cpu[:-1]\n",
    "                cpu = int(cpu)\n",
    "                cpu_u=cpu_u + cpu\n",
    "            if getchar(items[0], which_app) == 'm':\n",
    "                limits = 5*600\n",
    "                cpu = items[1]\n",
    "                cpu = cpu[:-1]\n",
    "                cpu = int(cpu)\n",
    "                cpu_u=cpu_u + cpu\n",
    "            if getchar(items[0], which_app) == 'l':\n",
    "                limits = 10*600\n",
    "                cpu = items[1]\n",
    "                cpu = cpu[:-1]\n",
    "                cpu = int(cpu)\n",
    "                cpu_u=cpu_u + cpu\n",
    "\n",
    "        \n",
    "                \n",
    "#    print(limits - cpu_u)\n",
    "    return limits - cpu_u\n",
    "\n",
    "\n",
    "cpuAvail(\"cluster1-cntx\",\"firewall\"+'s')"
   ]
  },
  {
   "cell_type": "code",
   "execution_count": 30,
   "metadata": {},
   "outputs": [
    {
     "data": {
      "text/plain": [
       "['s']"
      ]
     },
     "execution_count": 30,
     "metadata": {},
     "output_type": "execute_result"
    }
   ],
   "source": [
    "#Which microservice configuration is running: small, medium, or large\n",
    "def getchar(string, n):\n",
    "    return str(string)[n - 1]\n",
    "def whichConf(cluster, app_name):\n",
    "    size = []\n",
    "    output = os.popen('sudo kubectl get services --context=' + cluster).read()\n",
    "    lines = output.split(\"\\n\")\n",
    "    which_app = len(app_name)\n",
    "    for line in lines[:-1]:\n",
    "        items = line.split()\n",
    "        if items[0][:which_app] == app_name:\n",
    "            size.append(getchar(items[0], which_app+1))\n",
    "    #        print(size)\n",
    "    return size\n",
    "whichConf(\"cluster1-cntx\",\"firewall\")"
   ]
  },
  {
   "cell_type": "code",
   "execution_count": 31,
   "metadata": {},
   "outputs": [
    {
     "data": {
      "text/plain": [
       "['s']"
      ]
     },
     "execution_count": 31,
     "metadata": {},
     "output_type": "execute_result"
    }
   ],
   "source": [
    "#This function orders the running microservies on a cluster increasingly according to proccessing delay\n",
    "def orderService(cluster, app_name):\n",
    "    delay = []\n",
    "    size = whichConf(cluster, app_name)\n",
    "    for s in range(len(size)):\n",
    "        delay.append(bf[app_name][app_name+size[s]])\n",
    "    sorted_delay = [x for _,x in sorted(zip(delay,size))]\n",
    "    return sorted_delay\n",
    " #   print(delay)\n",
    "                \n",
    "    \n",
    "orderService(\"cluster1-cntx\",\"firewall\")"
   ]
  },
  {
   "cell_type": "code",
   "execution_count": 32,
   "metadata": {},
   "outputs": [
    {
     "data": {
      "text/plain": [
       "''"
      ]
     },
     "execution_count": 32,
     "metadata": {},
     "output_type": "execute_result"
    }
   ],
   "source": [
    "import os\n",
    "def getIP(cluster, app_name):\n",
    "    output = os.popen('kubectl get service -o wide --context=' + cluster).read()\n",
    "    lines = output.split(\"\\n\")\n",
    "    serviceIP = ''\n",
    "    port=''\n",
    "    which_app = len(app_name)\n",
    "    for line in lines[:-1]:\n",
    "        items = line.split()\n",
    "        if items[0][:which_app] == app_name:\n",
    "            serviceIP=items[2]+\":\"+items[4][:4]\n",
    "    return serviceIP\n",
    "getIP(\"cluster1-cntx\",\"firewall\"+'m')"
   ]
  },
  {
   "cell_type": "code",
   "execution_count": 33,
   "metadata": {},
   "outputs": [
    {
     "data": {
      "text/plain": [
       "['cluster1-cntx', 'cluster2-cntx']"
      ]
     },
     "execution_count": 33,
     "metadata": {},
     "output_type": "execute_result"
    }
   ],
   "source": [
    "#This function orders the available links from source cluster increasingly according to latency\n",
    "def orderlink(cluster):\n",
    "    delay = []\n",
    "    cnx = []\n",
    "    for key in range(len(list(link_latency[\"cluster1-cntx\"].keys()))):\n",
    "        delay.append(link_latency[\"cluster1-cntx\"][list(link_latency[\"cluster1-cntx\"].keys())[key]])\n",
    "        cnx.append(list(link_latency[\"cluster1-cntx\"].keys())[key])\n",
    "    sorted_delay = [x for _,x in sorted(zip(delay,cnx))]\n",
    "    return sorted_delay\n",
    " #   print(delay)\n",
    "                \n",
    "    \n",
    "orderlink(\"cluster1-cntx\")"
   ]
  },
  {
   "cell_type": "code",
   "execution_count": 34,
   "metadata": {},
   "outputs": [
    {
     "data": {
      "text/plain": [
       "3771"
      ]
     },
     "execution_count": 34,
     "metadata": {},
     "output_type": "execute_result"
    }
   ],
   "source": [
    "\n",
    "#Available CPU on a cluster in millicores\n",
    "def clusterCPU(cluster):\n",
    "    cpu=0\n",
    "    cpu_cl=0\n",
    "    nodes=0\n",
    "    output = os.popen('sudo kubectl top nodes --context=' + cluster).read()\n",
    "    lines = output.split(\"\\n\")\n",
    "    for line in lines[:-1]:\n",
    "        items = line.split()\n",
    "        if items[0] != \"NAME\":\n",
    "            cpu = items[1]\n",
    "            cpu = cpu[:-1]\n",
    "            cpu = int(cpu)\n",
    "            cpu_cl = cpu_cl + cpu\n",
    "            nodes=nodes+1\n",
    "    return nodes*2000 - cpu_cl\n",
    "\n",
    "clusterCPU('cluster1-cntx')"
   ]
  },
  {
   "cell_type": "code",
   "execution_count": 35,
   "metadata": {},
   "outputs": [
    {
     "data": {
      "text/html": [
       "<h1>Place and Assign new mircroservice to requests</h1>"
      ],
      "text/plain": [
       "<IPython.core.display.HTML object>"
      ]
     },
     "execution_count": 35,
     "metadata": {},
     "output_type": "execute_result"
    }
   ],
   "source": [
    "from IPython.display import HTML\n",
    "HTML(\"<h1>Place and Assign new mircroservice to requests</h1>\")"
   ]
  },
  {
   "cell_type": "code",
   "execution_count": 36,
   "metadata": {},
   "outputs": [
    {
     "data": {
      "text/plain": [
       "['cluster1-cntx',\n",
       " 'cluster1-cntx',\n",
       " 'cluster1-cntx',\n",
       " 'cluster2-cntx',\n",
       " 'cluster2-cntx',\n",
       " 'cluster2-cntx']"
      ]
     },
     "execution_count": 36,
     "metadata": {},
     "output_type": "execute_result"
    }
   ],
   "source": [
    "#Returns the lists of clusters on which a microservice type is running\n",
    "def checkdeploy(app_name):\n",
    "    cl = 0\n",
    "    p=0\n",
    "    cluster=[]\n",
    "    while p == 0:\n",
    "        for cl in range(len(G)):\n",
    "            i = list(G.keys())[cl]\n",
    "            output = os.popen('sudo kubectl get services --context=' +i).read()\n",
    "            lines = output.split(\"\\n\")\n",
    "            which_app = len(app_name)\n",
    "            for line in lines[:-1]:\n",
    "                items = line.split()\n",
    "                if items[0][:which_app] == app_name:\n",
    "                    cluster.append(i)\n",
    "                    p=1\n",
    "                    \n",
    "    return cluster\n",
    "checkdeploy(\"proxy\")\n",
    "            "
   ]
  },
  {
   "cell_type": "code",
   "execution_count": 37,
   "metadata": {},
   "outputs": [],
   "source": [
    "def assignService(i, q, usecase_s):\n",
    "#    req = 1\n",
    "#    cl = 1\n",
    "    config_idx='' \n",
    "    size=[]\n",
    "    avail=0\n",
    "    cpu_q= usecase_s[u][q]\n",
    "    r = runningPods(i, q)\n",
    "    if r >= 1: #there's a function already running on this cluster \n",
    "        size = orderService(i,q) #which function size is running? order by delay\n",
    "        for s in range(len(size)): \n",
    "            avail = cpuAvail(i, q+size[s]) #the available CPU depends on the service configuration\n",
    "            if avail > cpu_q: #if the available resources > profiled resources requested \n",
    "                config_idx = size[s] #then get IP to assign the service to proxy\n",
    "                break\n",
    "    elif r ==0 : #no service running \n",
    "        config_idx=''          \n",
    "    #print(proxy_conf)\n",
    "    return config_idx\n",
    "\n",
    "def newService(i,q, usecase_s):\n",
    "    config_idx=''\n",
    "    cpu_q= usecase_s[u][q]\n",
    "    r = runningPods(i, q)\n",
    "    if 600 > cpu_q and runningPods(i, q+'s') == 0 and 600 < clusterCPU(i): #deploy new small service\n",
    "        #place(i,q,'s')\n",
    "        config_idx='s'       \n",
    "    elif 5*600 > cpu_q and runningPods(i, q+'m')==0 and 5*600 < clusterCPU(i): #deploy new medium service\n",
    "        config_idx='m'\n",
    "    elif 10*600 > cpu_q and runningPods(i, q+'l')==0 and 10*600 < clusterCPU(i): #deploy new large service\n",
    "        config_idx='l'\n",
    "\n",
    "  #  elif proxy_conf=='':\n",
    "  #      print(\"placement failed\")\n",
    "        \n",
    "    \n",
    "    #print(proxy_conf)\n",
    "    return config_idx"
   ]
  },
  {
   "cell_type": "code",
   "execution_count": 38,
   "metadata": {},
   "outputs": [
    {
     "data": {
      "text/html": [
       "<h1>Monitor and delete function</h1>"
      ],
      "text/plain": [
       "<IPython.core.display.HTML object>"
      ]
     },
     "execution_count": 38,
     "metadata": {},
     "output_type": "execute_result"
    }
   ],
   "source": [
    "from IPython.display import HTML\n",
    "HTML(\"<h1>Monitor and delete function</h1>\")"
   ]
  },
  {
   "cell_type": "code",
   "execution_count": 51,
   "metadata": {},
   "outputs": [],
   "source": [
    "#def monitorUsage(t): #This function is terminate services once idle for a time \n",
    "import threading\n",
    "import time\n",
    "import os\n",
    "\n",
    "def deletePod(app_name, timer, cluster):\n",
    "    #print(\"thread is starting\")\n",
    "    action=[None] * 5\n",
    "    policy=[]\n",
    "    cpu = 0\n",
    "    timeout = time.time() + timer\n",
    "    while cpu == 0:\n",
    "        cpu= cpuUtilised(cluster, app_name)\n",
    "        if time.time() > timeout:\n",
    "            action[0]=cluster\n",
    "            action[1]=0\n",
    "            action[2]= app_name[len(app_name)-1]\n",
    "            action[3]= app_name[:-1]\n",
    "            action[4]= 0\n",
    "            policy.append(action)\n",
    "            break\n",
    "    return policy\n",
    "class ThreadWithResult(threading.Thread):\n",
    "    def __init__(self, group=None, target=None, name=None, args=(), kwargs={}, *, daemon=None):\n",
    "        def function():\n",
    "            self.result = target(*args, **kwargs)\n",
    "        super().__init__(group=group, target=function, name=name, daemon=daemon)\n",
    "\n",
    "        \n",
    "def monitorUsage(cluster, timer):\n",
    "\n",
    "    for service in range(len(bf)):\n",
    "        threads = list()\n",
    "        ser = list(bf.keys())[service]\n",
    "        s = whichConf(cluster,ser)\n",
    "        if s != []:\n",
    "            for size in range(len(s)):\n",
    "                app_name=ser+s[size]\n",
    "                x =ThreadWithResult(target=deletePod, args=(app_name, timer, cluster,))\n",
    "                x.daemon = True\n",
    "                threads.append(x)\n",
    "                x.start()\n",
    "            for x in threads:\n",
    "                x.join()\n",
    "                print(x.result)\n",
    "                \n",
    "\n",
    "        \n",
    "#monitorUsage(\"cluster1-cntx\",10)"
   ]
  },
  {
   "cell_type": "code",
   "execution_count": 42,
   "metadata": {},
   "outputs": [],
   "source": [
    "#With new requests you need to initialise and empty the these values again\n",
    "#Run this once with every new G_req\n",
    "\n",
    "m_ser = []\n",
    "m_cl= ''"
   ]
  },
  {
   "cell_type": "code",
   "execution_count": 43,
   "metadata": {},
   "outputs": [],
   "source": [
    "def updateAssign(a_ser):\n",
    "    m_ser.append(a_ser)\n",
    "    return  m_ser\n",
    "\n"
   ]
  },
  {
   "cell_type": "code",
   "execution_count": 44,
   "metadata": {},
   "outputs": [
    {
     "name": "stdout",
     "output_type": "stream",
     "text": [
      "\n"
     ]
    }
   ],
   "source": [
    "print(m_cl)"
   ]
  },
  {
   "cell_type": "code",
   "execution_count": 45,
   "metadata": {},
   "outputs": [
    {
     "name": "stdout",
     "output_type": "stream",
     "text": [
      "['firewall']\n"
     ]
    },
    {
     "data": {
      "text/plain": [
       "[['cluster1-cntx', 1, 's', 'firewall', 'proxy']]"
      ]
     },
     "execution_count": 45,
     "metadata": {},
     "output_type": "execute_result"
    }
   ],
   "source": [
    "#this feeds the RL agent with heuristic policies \n",
    "#[cluster-idx, action-idx, config-idx, app-idx, proxy-idx]\n",
    "\n",
    "def main(proxy, G_req):\n",
    "\n",
    "    proxy_idx=proxy\n",
    "    action=[None] * 5\n",
    "    policy=[]\n",
    "    global m_cl\n",
    "    global m_ser\n",
    "\n",
    "\n",
    "    startingCluster = checkdeploy(proxy_idx)\n",
    "    OG = orderlink(startingCluster) #try the fastest link first\n",
    "    for cl in range(len(OG)): #go over clusters \n",
    "        i = list(G.keys())[cl]\n",
    "        for req in range(len(G_req)):\n",
    "            q = list(G_req.keys())[req] #go over functions to deploy\n",
    "            if q not in m_ser:\n",
    "                if q == list(G_req.keys())[0]: #The first function can be deployed on any cluster\n",
    "                    if assignService(i,q, usecase) != \"\": #there is atleast one good candidate service running on i \n",
    "                        action[0]=i\n",
    "                        action[1]=1\n",
    "                        action[2]= assignService(i,q, usecase)\n",
    "                        action[3]= q\n",
    "                        action[4]= proxy_idx\n",
    "                        policy.append(action)\n",
    "                        m_cl= i #to check connection with next deployment\n",
    "                        #m_serv=m_ser.append(q)\n",
    "                        updateAssign(q)\n",
    "                        #print(m_ser)\n",
    "                        return policy\n",
    "                elif m_cl in G[i]: #connection with previous bf and not already deployed\n",
    "                    if assignService(i,q, usecase) != \"\": #can be deployed\n",
    "                        action[0]=i\n",
    "                        action[1]=1\n",
    "                        action[2]= assignService(i,q, usecase)\n",
    "                        action[3]= q\n",
    "                        action[4]= proxy_idx\n",
    "                        policy.append(action)\n",
    "                        m_cl= i\n",
    "                        #m_ser=m_ser.append(q)\n",
    "                        updateAssign(q)\n",
    "                        #print(m_ser)\n",
    "                        return policy\n",
    "            else: \n",
    "                continue\n",
    "        if len(m_ser) < len(G_req): #not all deployed yet we try a different cluster      \n",
    "            continue \n",
    "        else:\n",
    "            break\n",
    "    if len(m_ser) < len(G_req): #not all functions could be deployed \n",
    "        for cl in range(len(OG)): #go over clusters \n",
    "            i = list(G.keys())[cl]\n",
    "            for req in range(len(G_req)):\n",
    "                q = list(G_req.keys())[req] #go over functions to deploy\n",
    "                if q not in m_ser:\n",
    "                    if q == list(G_req.keys())[0]:\n",
    "                        if newService(i,q, usecase) != '':\n",
    "                            action[0]=i\n",
    "                            action[1]=2\n",
    "                            action[2]= newService(i,q, usecase)\n",
    "                            action[3]= q\n",
    "                            action[4]= proxy_idx\n",
    "                            policy.append(action)\n",
    "                            m_cl= i\n",
    "                            #m_ser=m_ser.append(q)\n",
    "                            updateAssign(q)\n",
    "                            #print(m_ser)\n",
    "                            return policy\n",
    "                    elif m_cl in G[i]: #connection with previous bf and not already deployed\n",
    "                        if newService(i,q, usecase) != '':\n",
    "                            action[0]=i\n",
    "                            action[1]=2\n",
    "                            action[2]= newService(i,q, usecase)\n",
    "                            action[3]= q\n",
    "                            action[4]= proxy_idx\n",
    "                            policy.append(action)\n",
    "                            m_cl= i\n",
    "                            #m_ser=m_ser.append(q)\n",
    "                            updateAssign(q)\n",
    "                            #print(m_ser)\n",
    "                            return policy\n",
    "            if len(m_ser) < len(G_req): #not all deployed yet we try a different cluster      \n",
    "                continue \n",
    "            else:\n",
    "                break\n",
    "    #proxyConfig(IPs, proxy)\n",
    "    #print(IPs)\n",
    "    #print(m_ser)\n",
    "    \n",
    "    \n",
    "#main(\"proxy\", G_req)"
   ]
  },
  {
   "cell_type": "code",
   "execution_count": 46,
   "metadata": {},
   "outputs": [
    {
     "data": {
      "text/html": [
       "<h1>Deploy and monitor microservices</h1>"
      ],
      "text/plain": [
       "<IPython.core.display.HTML object>"
      ]
     },
     "execution_count": 46,
     "metadata": {},
     "output_type": "execute_result"
    }
   ],
   "source": [
    "from IPython.display import HTML\n",
    "HTML(\"<h1>Deploy and monitor microservices</h1>\")"
   ]
  },
  {
   "cell_type": "code",
   "execution_count": null,
   "metadata": {},
   "outputs": [],
   "source": [
    "#def deploy(proxy, G_req):\n",
    "#    for r in range(len(G_req)):\n",
    "#        main(proxy, G_req)\n",
    "#        time.sleep(1)\n",
    "\n",
    "def heuristic():\n",
    "    threads = list()\n",
    "    x =ThreadWithResult(target=main, args=(\"proxy\", G_req, ))\n",
    "    x.daemon = True\n",
    "    x.start()\n",
    "    threads.append(x)\n",
    "    for cl in range(len(G)): #go over clusters \n",
    "        i = list(G.keys())[cl]\n",
    "        x = ThreadWithResult(target=monitorUsage, args=(i,10000, ))\n",
    "        x.daemon = True\n",
    "        threads.append(x)\n",
    "        x.start()\n",
    "    for x in threads:\n",
    "        x.join()\n",
    "        print(x.result)\n",
    "        \n",
    "heuristic()"
   ]
  },
  {
   "cell_type": "code",
   "execution_count": null,
   "metadata": {},
   "outputs": [],
   "source": []
  }
 ],
 "metadata": {
  "kernelspec": {
   "display_name": "Python 3",
   "language": "python",
   "name": "python3"
  },
  "language_info": {
   "codemirror_mode": {
    "name": "ipython",
    "version": 3
   },
   "file_extension": ".py",
   "mimetype": "text/x-python",
   "name": "python",
   "nbconvert_exporter": "python",
   "pygments_lexer": "ipython3",
   "version": "3.6.9"
  }
 },
 "nbformat": 4,
 "nbformat_minor": 2
}
